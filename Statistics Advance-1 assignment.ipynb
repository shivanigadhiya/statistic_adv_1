{
 "cells": [
  {
   "cell_type": "markdown",
   "id": "5fbbfb9d-521f-4e5c-aeb3-068053004037",
   "metadata": {},
   "source": [
    "Q1. What is the Probability density function?"
   ]
  },
  {
   "cell_type": "markdown",
   "id": "b22a68f1-5d99-404f-af08-aee7f413fb26",
   "metadata": {},
   "source": [
    "The Probability Density Function(PDF) defines the probability function representing the density of a continuous random variable lying between a specific range of values."
   ]
  },
  {
   "cell_type": "markdown",
   "id": "28ddd569-cc06-4e1a-a1d1-18c87b99f264",
   "metadata": {},
   "source": [
    "Q2. What are the types of Probability distribution?"
   ]
  },
  {
   "cell_type": "markdown",
   "id": "36165a77-4ae3-4864-8adb-0c73b022dc10",
   "metadata": {},
   "source": [
    "1.Normal/Gaussian distribution\n",
    "2.Bernoulli distribution\n",
    "3.Uniform distribution\n",
    "4.Possion distribution\n",
    "5.Log normal dostribution"
   ]
  },
  {
   "cell_type": "markdown",
   "id": "ffb8f8e4-f09d-4d14-a8f9-cf668aeb980d",
   "metadata": {},
   "source": [
    "Q3. Write a Python function to calculate the probability density function of a normal distribution with\n",
    "given mean and standard deviation at a given point."
   ]
  },
  {
   "cell_type": "markdown",
   "id": "c6a77dc3-8992-484d-8ae8-ad642927c027",
   "metadata": {},
   "source": [
    " fZ(z)=1√2πexp{−z22}"
   ]
  },
  {
   "cell_type": "markdown",
   "id": "4608bcf6-0bb8-458e-8943-eddfc26f8cdb",
   "metadata": {},
   "source": [
    "mean = Average"
   ]
  },
  {
   "cell_type": "markdown",
   "id": "93b4830e-b782-469e-9348-68c7fb31ec99",
   "metadata": {},
   "source": [
    "std = underroot of variance"
   ]
  },
  {
   "cell_type": "markdown",
   "id": "edaf8d48-c96e-4a96-af79-a7ef4b431fd5",
   "metadata": {},
   "source": [
    "Q4. What are the properties of Binomial distribution? Give two examples of events where binomial\n",
    "distribution can be applied."
   ]
  },
  {
   "cell_type": "markdown",
   "id": "9c3ba207-7ab0-4db9-b9d9-454f97fc06d5",
   "metadata": {},
   "source": [
    "A binomial experiment is one that has the following properties: (1) The experiment consists of n identical trials. (2) Each trial results in one of the two outcomes, called a success S and failure F. (3) The probability of success on a single trial is equal to p and remains the same from trial to trial."
   ]
  },
  {
   "cell_type": "markdown",
   "id": "82ec1274-c57a-4503-8705-5d27e02bc2e2",
   "metadata": {},
   "source": [
    "Example :  if we toss a coin, there could be only two possible outcomes: heads or tails"
   ]
  },
  {
   "cell_type": "markdown",
   "id": "13fc4f3e-1575-4095-bfc0-4fae253a2505",
   "metadata": {},
   "source": [
    "Example :  if any test is taken, then there could be only two results: pass or fail."
   ]
  },
  {
   "cell_type": "markdown",
   "id": "fec870ae-c4e6-4839-bce6-e65b7146be7d",
   "metadata": {},
   "source": [
    "Q5. Generate a random sample of size 1000 from a binomial distribution with probability of success 0.4\n",
    "and plot a histogram of the results using matplotlib."
   ]
  },
  {
   "cell_type": "code",
   "execution_count": 2,
   "id": "9f2b70eb-6234-4196-bc10-0b2e74eacd16",
   "metadata": {},
   "outputs": [
    {
     "data": {
      "image/png": "[encoded data removed]",
      "text/plain": [
       "<Figure size 640x480 with 1 Axes>"
      ]
     },
     "metadata": {},
     "output_type": "display_data"
    }
   ],
   "source": [
    "import numpy as np\n",
    "import matplotlib.pyplot as plt\n",
    "\n",
    "# Set the parameters for the binomial distribution\n",
    "n = 1000  # Sample size\n",
    "p = 0.4   # Probability of success\n",
    "\n",
    "# Generate the random sample\n",
    "random_sample = np.random.binomial(1, p, n)  # '1' represents a single trial, and 'p' is the probability of success\n",
    "\n",
    "# Plot a histogram\n",
    "plt.hist(random_sample, bins=2, density=True, alpha=0.6, color='g', edgecolor='k')\n",
    "plt.title('Histogram of Random Sample from Binomial Distribution')\n",
    "plt.xlabel('Outcome')\n",
    "plt.ylabel('Frequency')\n",
    "plt.xticks([0, 1], ['Failure', 'Success'])\n",
    "plt.show()\n"
   ]
  },
  {
   "cell_type": "markdown",
   "id": "b3cb8b21-bb04-428d-a7fe-089e8c3890ad",
   "metadata": {},
   "source": [
    "Q6. Write a Python function to calculate the cumulative distribution function of a Poisson distribution\n",
    "with given mean at a given point."
   ]
  },
  {
   "cell_type": "code",
   "execution_count": 3,
   "id": "8c171ee1-c28f-4eec-8557-d1454df3bf55",
   "metadata": {},
   "outputs": [
    {
     "name": "stdout",
     "output_type": "stream",
     "text": [
      "CDF at 2 for Poisson(mean=3.5) is 0.3208\n"
     ]
    }
   ],
   "source": [
    "import scipy.stats as stats\n",
    "\n",
    "def poisson_cdf(mean, k):\n",
    "    \"\"\"\n",
    "    Calculate the cumulative distribution function (CDF) of a Poisson distribution.\n",
    "\n",
    "    Parameters:\n",
    "        mean (float): Mean of the Poisson distribution.\n",
    "        k (int): Point at which to calculate the CDF.\n",
    "\n",
    "    Returns:\n",
    "        float: The CDF value at the given point k.\n",
    "    \"\"\"\n",
    "    cdf = stats.poisson.cdf(k, mu=mean)\n",
    "    return cdf\n",
    "\n",
    "# Example usage:\n",
    "mean = 3.5  # Mean of the Poisson distribution\n",
    "k = 2       # Point at which to calculate the CDF\n",
    "\n",
    "cdf_value = poisson_cdf(mean, k)\n",
    "print(f\"CDF at {k} for Poisson(mean={mean}) is {cdf_value:.4f}\")\n"
   ]
  },
  {
   "cell_type": "markdown",
   "id": "30e689ac-7292-4467-b77f-ddffa9e1a80a",
   "metadata": {},
   "source": [
    "Q7. How Binomial distribution different from Poisson distribution?"
   ]
  },
  {
   "cell_type": "markdown",
   "id": "f692bc71-de69-404b-9179-8301e09d5865",
   "metadata": {},
   "source": [
    "Binomial distribution is the one in which the number of outcomes are only 2 and whereas Poisson distribution is the one in which the number of outcomes are unlimited."
   ]
  },
  {
   "cell_type": "markdown",
   "id": "cda24e76-460b-4596-b447-80da4f09f868",
   "metadata": {},
   "source": [
    "Q8. Generate a random sample of size 1000 from a Poisson distribution with mean 5 and calculate the\n",
    "sample mean and variance."
   ]
  },
  {
   "cell_type": "code",
   "execution_count": 4,
   "id": "4038ca7d-e5ab-4bed-adf8-8d3aa818ab30",
   "metadata": {},
   "outputs": [
    {
     "name": "stdout",
     "output_type": "stream",
     "text": [
      "Sample Mean: 5.06\n",
      "Sample Variance: 5.20\n"
     ]
    }
   ],
   "source": [
    "import numpy as np\n",
    "\n",
    "# Set the parameters\n",
    "sample_size = 1000\n",
    "mean = 5\n",
    "\n",
    "# Generate the random sample from a Poisson distribution\n",
    "random_sample = np.random.poisson(mean, sample_size)\n",
    "\n",
    "# Calculate the sample mean and variance\n",
    "sample_mean = np.mean(random_sample)\n",
    "sample_variance = np.var(random_sample, ddof=1)  # Use ddof=1 for sample variance\n",
    "\n",
    "# Print the results\n",
    "print(f\"Sample Mean: {sample_mean:.2f}\")\n",
    "print(f\"Sample Variance: {sample_variance:.2f}\")\n"
   ]
  },
  {
   "cell_type": "markdown",
   "id": "549d0ec7-ac0c-48e0-b381-b39443bf2d85",
   "metadata": {},
   "source": [
    "Q9. How mean and variance are related in Binomial distribution and Poisson distribution?"
   ]
  },
  {
   "cell_type": "markdown",
   "id": "356651af-157f-4e22-a2f4-778b1ed9d3ac",
   "metadata": {},
   "source": [
    "Binomial Distribution:\n",
    "In a Binomial distribution, the mean (μ) and variance (σ^2) are related as follows:\n",
    "\n",
    "Mean (μ) = n * p\n",
    "Variance (σ^2) = n * p * (1 - p)"
   ]
  },
  {
   "cell_type": "markdown",
   "id": "63b3e031-8d6c-4c5c-9066-391ac4a13b21",
   "metadata": {},
   "source": [
    "Poisson Distribution:\n",
    "In a Poisson distribution, the mean (μ) and variance (σ^2) are equal:\n",
    "\n",
    "Mean (μ) = Variance (σ^2) = λ"
   ]
  },
  {
   "cell_type": "markdown",
   "id": "56664d26-db08-4095-9f94-4ae379baa55f",
   "metadata": {},
   "source": [
    "Q10. In normal distribution with respect to mean position, where does the least frequent data appear?"
   ]
  },
  {
   "cell_type": "markdown",
   "id": "62c20d60-c54e-4885-9978-5e21a5caa29b",
   "metadata": {},
   "source": [
    "In a normal distribution (also known as a Gaussian distribution), the least frequent data points appear in the tails of the distribution, farthest away from the mean. Specifically, the data points that are far to the left and far to the right of the mean are the least frequent."
   ]
  },
  {
   "cell_type": "code",
   "execution_count": null,
   "id": "a53a1627-8b2f-446e-9f4b-6dc250ca4a66",
   "metadata": {},
   "outputs": [],
   "source": []
  }
 ],
 "metadata": {
  "kernelspec": {
   "display_name": "Python 3 (ipykernel)",
   "language": "python",
   "name": "python3"
  },
  "language_info": {
   "codemirror_mode": {
    "name": "ipython",
    "version": 3
   },
   "file_extension": ".py",
   "mimetype": "text/x-python",
   "name": "python",
   "nbconvert_exporter": "python",
   "pygments_lexer": "ipython3",
   "version": "3.10.8"
  }
 },
 "nbformat": 4,
 "nbformat_minor": 5
}
